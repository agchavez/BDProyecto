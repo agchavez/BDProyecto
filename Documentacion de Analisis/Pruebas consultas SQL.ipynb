{
 "cells": [
  {
   "cell_type": "markdown",
   "metadata": {},
   "source": [
    "@author agchavez@unah.hn \n",
    "david.jacome@unah.hn \n",
    "aajimenez@unah.hn\n",
    "\n",
    "@date 2020/11/30 \n",
    "# Consultas SQL\n",
    "Acontinuacion encontrara tanto la conexion con la base de datos del proyecto como las consultas de pruebas con sus repectivas descipciones"
   ]
  },
  {
   "cell_type": "code",
   "execution_count": 65,
   "metadata": {
    "tags": []
   },
   "outputs": [
    {
     "name": "stdout",
     "output_type": "stream",
     "text": [
      "Importado\n"
     ]
    }
   ],
   "source": [
    "import mysql.connector\n",
    "print('Importado')"
   ]
  },
  {
   "cell_type": "code",
   "execution_count": 66,
   "metadata": {},
   "outputs": [],
   "source": [
    "class ConnectionConfig:\n",
    "    \n",
    "    def __init__(self, server, port,user, password, database):\n",
    "        self.server = server\n",
    "        self.port = port\n",
    "        self.user = user\n",
    "        self.password = password\n",
    "        self.database = database"
   ]
  },
  {
   "cell_type": "code",
   "execution_count": 67,
   "metadata": {},
   "outputs": [],
   "source": [
    "class MySQLEngine:\n",
    "    def __init__(self,config):\n",
    "        self.server = config.server\n",
    "        self.port = config.port\n",
    "        self.user = config.user\n",
    "        self.password = config.password\n",
    "        self.database = config.database\n",
    "        \n",
    "\n",
    "        self.start()\n",
    "    def start(self):\n",
    "        self.con = mysql.connector.connect(\n",
    "            host = self.server,\n",
    "            port = self.port,\n",
    "            user = self.user,\n",
    "            password = self.password,\n",
    "            database = self.database\n",
    "        )\n",
    "\n",
    "        #Version del texto\n",
    "        self.link = self.con.cursor()\n",
    "    def select(self, query):\n",
    "        self.link.execute(query)\n",
    "        return self.link.fetchall()\n",
    "    def management(self,sp, arg):\n",
    "        temp = self.link.callproc(sp, arg)\n",
    "        self.commit()\n",
    "        return temp\n",
    "        \n",
    "    def commit(self):\n",
    "        self.con.commit()"
   ]
  },
  {
   "cell_type": "markdown",
   "metadata": {},
   "source": [
    "### Obtener todos los usuarios registrados\n",
    "Esta consulta va formar parte del login de la aplicacion para que se pueda autenticar el usuario a ingresar"
   ]
  },
  {
   "cell_type": "code",
   "execution_count": 68,
   "metadata": {
    "scrolled": true
   },
   "outputs": [
    {
     "name": "stdout",
     "output_type": "stream",
     "text": [
      "[(1, 'Gabriel', 'LanaRhoades', '00000', '00120', 0), (2, 'Abner', 'EvaLovia', '00000', '00120', 1), (3, 'David', 'MiaKalifa', '#FFFFFF', '#FFFFAA', 1), (4, 'Daniela ', '1234', '00000', '00120', 1)]\n"
     ]
    }
   ],
   "source": [
    "config = ConnectionConfig(\"localhost\",\"3306\",\"admin\",\"admin\",\"Proyecto\") \n",
    "engie = MySQLEngine(config)\n",
    "users = engie.select(\"SELECT * FROM User ORDER BY id ASC\")\n",
    "print(users)"
   ]
  },
  {
   "cell_type": "markdown",
   "metadata": {},
   "source": [
    "## Clases de User\n",
    "### Agregar usuarios\n",
    "- Para agregar un usuario primero se comprueba si el nombre del usuario a ingresar ya esta en la base de datos retornando un true si el usuario existe, por lo que no se agrega el usuario\n",
    "- Si el usuario no existe se agrega a la base de datos retornando un true si el valor fue agregado con exito y false si hay un error al guardar\n",
    "\n",
    "### Eliminar Usuario\n",
    "- **Parametros de entrada:** @id esta variable hace referencia al id de la tabla User\n",
    "- **Retorno:** Al eliminar el usuario returna True si el valor fue eliminado y False si hay un error al eliminar \n",
    "\n",
    "### Modificar Usuario \n",
    "- **Parametros de entrada:** \n",
    "- **Retorno:**"
   ]
  },
  {
   "cell_type": "code",
   "execution_count": 69,
   "metadata": {},
   "outputs": [
    {
     "ename": "SyntaxError",
     "evalue": "invalid syntax (<ipython-input-69-a49789c4a52b>, line 14)",
     "output_type": "error",
     "traceback": [
      "\u001b[0;36m  File \u001b[0;32m\"<ipython-input-69-a49789c4a52b>\"\u001b[0;36m, line \u001b[0;32m14\u001b[0m\n\u001b[0;31m    elif query[2] == 0:\u001b[0m\n\u001b[0m    ^\u001b[0m\n\u001b[0;31mSyntaxError\u001b[0m\u001b[0;31m:\u001b[0m invalid syntax\n"
     ]
    }
   ],
   "source": [
    "class User():\n",
    "    def __init__(self):\n",
    "        pass\n",
    "    def showUser(self):\n",
    "        users = engie.select(\"SELECT * FROM User ORDER BY id ASC\")\n",
    "        print(users)\n",
    "    \n",
    "    # Buscar usuario\n",
    "    def loginUser(self, userName, password):\n",
    "        # Comprobar si el usuario \n",
    "        query = engie.management('sp_login',(userName, password, None, None))\n",
    "        if query[2] == 1:\n",
    "            return (query[3]\n",
    "        elif query[2] == 0:\n",
    "            print('Usuario o password incorrecto')\n",
    "            return False\n",
    "        else:\n",
    "            print('Error en a peticion')\n",
    "            return False\n",
    "    \n",
    "    # Agregar usuario\n",
    "    def addUser(self, userName, password, typex, penColor, fillColor):\n",
    "        #Comprobar si el usuario exite en la base de datos del usuario\n",
    "        temp = engie.management('sp_searchUser',(userName, None))\n",
    "        \n",
    "        if temp[1] == 1:\n",
    "            print('El nombre del usuario ya existe')\n",
    "            return True\n",
    "        elif temp[1] == 0:\n",
    "            query = engie.management('sp_addUser',(userName,password,typex, penColor, fillColor, None))\n",
    "            if query[5] == 1:\n",
    "                print('Usuario ingresado con exito')\n",
    "                return True\n",
    "\n",
    "            else:\n",
    "                print('ERROR al guardar')\n",
    "                return False\n",
    "                \n",
    "    #Eliminar usuario\n",
    "    def dropUser(self, id):\n",
    "        query = engie.management('sp_dropUser',(id, None))\n",
    "        if query[1] == 1:\n",
    "            print('Usuario eliminado con exito')\n",
    "            return True\n",
    "        else:\n",
    "            print('ERROR al eliminar')\n",
    "            return False\n",
    "            \n",
    "    #Modificar usuarios\n",
    "    def updateUser(self,userName, password, typex, penColor, fillColor):\n",
    "        query = engie.management('sp_updateUser',(userName,password,typex, penColor, fillColor, None))\n",
    "        if query[5] == 1:\n",
    "            print('Usuario actualizado con exito')\n",
    "            return True\n",
    "\n",
    "        else:\n",
    "            print('ERROR al actualizar')\n",
    "            return False\n",
    "        \n",
    "    def searchAdmin(self,user=None,password=None):\n",
    "        query = engie.management('sp_searchAdmin',(user, password, None))\n",
    "        if query[2] == 0:\n",
    "            return True\n",
    "        else:\n",
    "            return False\n",
    "    \n",
    "    def searchIDUser(self,user=None,password=None):\n",
    "         query = engie.management('sp_searchIDUsers',(user, password, None))\n",
    "         return (True, query[2])"
   ]
  },
  {
   "cell_type": "code",
   "execution_count": 58,
   "metadata": {},
   "outputs": [
    {
     "data": {
      "text/plain": [
       "False"
      ]
     },
     "execution_count": 58,
     "metadata": {},
     "output_type": "execute_result"
    }
   ],
   "source": [
    "user = User()\n",
    "user.searchAdmin(\"Rosa\",\"ss\")"
   ]
  },
  {
   "cell_type": "code",
   "execution_count": null,
   "metadata": {},
   "outputs": [],
   "source": [
    "user.addUser(\"Rosda\",\"ss\",1,\"FFFFFF\",\"FFFFFF\")"
   ]
  },
  {
   "cell_type": "code",
   "execution_count": 59,
   "metadata": {},
   "outputs": [
    {
     "name": "stdout",
     "output_type": "stream",
     "text": [
      "Bienvenid@ 2\n"
     ]
    },
    {
     "data": {
      "text/plain": [
       "True"
      ]
     },
     "execution_count": 59,
     "metadata": {},
     "output_type": "execute_result"
    }
   ],
   "source": [
    "user.loginUser(\"Abner\",\"EvaLovia\")"
   ]
  },
  {
   "cell_type": "markdown",
   "metadata": {},
   "source": [
    "## Clase Dibujo\n",
    "### Agregar dibujos \n",
    "\n",
    "### Eliminar dibujos \n",
    "\n",
    "### Modificar dibujos"
   ]
  },
  {
   "cell_type": "code",
   "execution_count": 78,
   "metadata": {},
   "outputs": [
    {
     "name": "stdout",
     "output_type": "stream",
     "text": [
      "{\"GraphicsCommands\": {\"Commands\": [{\"x\": -1.0, \"y\": 5.0, \"color\": \"#000000\", \"width\": 1.0, \"command\": \"GoTo\"}, {\"x\": -8.0, \"y\": 12.0, \"color\": \"#000000\", \"width\": 1.0, \"command\": \"GoTo\"}, {\"x\": -18.0, \"y\": 25.0, \"color\": \"#000000\", \"width\": 1.0, \"command\": \"GoTo\"}, {\"x\": -27.0, \"y\": 42.0, \"color\": \"#000000\", \"width\": 1.0, \"command\": \"GoTo\"}, {\"x\": -34.0, \"y\": 58.0, \"color\": \"#000000\", \"width\": 1.0, \"command\": \"GoTo\"}, {\"x\": -41.0, \"y\": 67.0, \"color\": \"#000000\", \"width\": 1.0, \"command\": \"GoTo\"}, {\"x\": -44.0, \"y\": 71.0, \"color\": \"#000000\", \"width\": 1.0, \"command\": \"GoTo\"}, {\"x\": -48.0, \"y\": 73.0, \"color\": \"#000000\", \"width\": 1.0, \"command\": \"GoTo\"}, {\"x\": -52.0, \"y\": 73.0, \"color\": \"#000000\", \"width\": 1.0, \"command\": \"GoTo\"}, {\"x\": -61.0, \"y\": 70.0, \"color\": \"#000000\", \"width\": 1.0, \"command\": \"GoTo\"}, {\"x\": -69.0, \"y\": 61.0, \"color\": \"#000000\", \"width\": 1.0, \"command\": \"GoTo\"}, {\"x\": -77.0, \"y\": 50.0, \"color\": \"#000000\", \"width\": 1.0, \"command\": \"GoTo\"}, {\"x\": -83.0, \"y\": 37.0, \"color\": \"#000000\", \"width\": 1.0, \"command\": \"GoTo\"}, {\"x\": -89.0, \"y\": 19.0, \"color\": \"#000000\", \"width\": 1.0, \"command\": \"GoTo\"}, {\"x\": -94.0, \"y\": 1.0, \"color\": \"#000000\", \"width\": 1.0, \"command\": \"GoTo\"}, {\"x\": -98.0, \"y\": -13.0, \"color\": \"#000000\", \"width\": 1.0, \"command\": \"GoTo\"}, {\"x\": -100.0, \"y\": -24.0, \"color\": \"#000000\", \"width\": 1.0, \"command\": \"GoTo\"}, {\"x\": -100.0, \"y\": -29.0, \"color\": \"#000000\", \"width\": 1.0, \"command\": \"GoTo\"}, {\"x\": -100.0, \"y\": -31.0, \"color\": \"#000000\", \"width\": 1.0, \"command\": \"GoTo\"}, {\"x\": -100.0, \"y\": -31.0, \"color\": \"#000000\", \"width\": 1.0, \"command\": \"GoTo\"}, {\"x\": -98.0, \"y\": -34.0, \"color\": \"#000000\", \"width\": 1.0, \"command\": \"GoTo\"}, {\"x\": -88.0, \"y\": -38.0, \"color\": \"#000000\", \"width\": 1.0, \"command\": \"GoTo\"}, {\"x\": -74.0, \"y\": -41.0, \"color\": \"#000000\", \"width\": 1.0, \"command\": \"GoTo\"}, {\"x\": -56.0, \"y\": -43.0, \"color\": \"#000000\", \"width\": 1.0, \"command\": \"GoTo\"}, {\"x\": -36.0, \"y\": -43.0, \"color\": \"#000000\", \"width\": 1.0, \"command\": \"GoTo\"}, {\"x\": -20.0, \"y\": -41.0, \"color\": \"#000000\", \"width\": 1.0, \"command\": \"GoTo\"}, {\"x\": -7.0, \"y\": -38.0, \"color\": \"#000000\", \"width\": 1.0, \"command\": \"GoTo\"}, {\"x\": 1.0, \"y\": -36.0, \"color\": \"#000000\", \"width\": 1.0, \"command\": \"GoTo\"}, {\"x\": 3.0, \"y\": -34.0, \"color\": \"#000000\", \"width\": 1.0, \"command\": \"GoTo\"}]}}\n"
     ]
    }
   ],
   "source": [
    "class paint():\n",
    "    def __init__(self, idUser):\n",
    "        self.idUser = idUser\n",
    "        self.paints = [] #Digujos del usuario\n",
    "        self.search()\n",
    "        \n",
    "    def search(self): #Solicitar los dibujos que pertencen al usuario\n",
    "        self.paints = engie.select(\"\"\"SELECT \n",
    "                                   id,var_name \n",
    "                                   FROM Paint \n",
    "                                   WHERE id_user = %s\"\"\" % self.idUser)\n",
    "        \n",
    "    def searchPaint(self, idPaint):\n",
    "        query = engie.management('sp_searchPaint',(idPaint, None))\n",
    "        if query[1]:\n",
    "            print(query[1])\n",
    "            return query[1]\n",
    "        else:\n",
    "            print('ERROR al obtener el dibujo')\n",
    "            return False\n",
    "        \n",
    "    def addPaint(self,namePaint,data, idUser):\n",
    "        query = engie.management('sp_addUser',(namePaint,data,idUser, None))\n",
    "        if query[3] == 1:\n",
    "            print('Dibujo ingresado con exito')\n",
    "            return True\n",
    "\n",
    "        else:\n",
    "            print('ERROR al guardar')\n",
    "            return False\n",
    "        \n",
    "    def showPaints(self):\n",
    "        print(self.paints)\n",
    "        return self.paints\n",
    "    \n",
    "    def dropePaint(self, id):\n",
    "        query = engie.management('sp_dropPaint',(id, None))\n",
    "        if query[1] == 1:\n",
    "            print('Dibujo eliminado con exito')\n",
    "            return True\n",
    "        else:\n",
    "            print('ERROR al eliminar')\n",
    "            return False\n",
    "        \n",
    "    def updatePaint(self,data,id):\n",
    "        query = engie.management('sp_updatePaint',(data,id, None))\n",
    "        if query[2] == 1:\n",
    "            print('Dibujo actualizado con exito')\n",
    "            return True\n",
    "\n",
    "        else:\n",
    "            print('ERROR al actualizar')\n",
    "            return False \n",
    "        \n",
    "paint = paint(1)\n",
    "result = paint.searchPaint(1)\n",
    "\n",
    "\n"
   ]
  },
  {
   "cell_type": "markdown",
   "metadata": {},
   "source": [
    "## Clase bitacora\n",
    "### Buscar bitacora\n",
    "### Agregar bitacora "
   ]
  },
  {
   "cell_type": "code",
   "execution_count": null,
   "metadata": {},
   "outputs": [],
   "source": []
  },
  {
   "cell_type": "code",
   "execution_count": null,
   "metadata": {},
   "outputs": [],
   "source": []
  }
 ],
 "metadata": {
  "kernelspec": {
   "display_name": "Python 3",
   "language": "python",
   "name": "python3"
  },
  "language_info": {
   "codemirror_mode": {
    "name": "ipython",
    "version": 3
   },
   "file_extension": ".py",
   "mimetype": "text/x-python",
   "name": "python",
   "nbconvert_exporter": "python",
   "pygments_lexer": "ipython3",
   "version": "3.8.5"
  }
 },
 "nbformat": 4,
 "nbformat_minor": 4
}
