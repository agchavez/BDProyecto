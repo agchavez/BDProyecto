{
 "cells": [
  {
   "cell_type": "markdown",
   "metadata": {},
   "source": [
    "@author agchavez@unah.hn \n",
    "david.jacome@unah.hn \n",
    "aajimenez@unah.hn\n",
    "\n",
    "@date 2020/11/30 \n",
    "# Consultas SQL\n",
    "Acontinuacion encontrara tanto la conexion con la base de datos del proyecto como las consultas de pruebas con sus repectivas descipciones"
   ]
  },
  {
   "cell_type": "code",
   "execution_count": 2,
   "metadata": {},
   "outputs": [
    {
     "name": "stdout",
     "output_type": "stream",
     "text": [
      "Importado\n"
     ]
    }
   ],
   "source": [
    "import mysql.connector\n",
    "print('Importado')"
   ]
  },
  {
   "cell_type": "code",
   "execution_count": 3,
   "metadata": {},
   "outputs": [],
   "source": [
    "class ConnectionConfig:\n",
    "    \n",
    "    def __init__(self, server, port,user, password, database):\n",
    "        self.server = server\n",
    "        self.port = port\n",
    "        self.user = user\n",
    "        self.password = password\n",
    "        self.database = database"
   ]
  },
  {
   "cell_type": "code",
   "execution_count": 24,
   "metadata": {},
   "outputs": [],
   "source": [
    "class MySQLEngine:\n",
    "    def __init__(self,config):\n",
    "        self.server = config.server\n",
    "        self.port = config.port\n",
    "        self.user = config.user\n",
    "        self.password = config.password\n",
    "        self.database = config.database\n",
    "        \n",
    "\n",
    "        self.start()\n",
    "    def start(self):\n",
    "        self.con = mysql.connector.connect(\n",
    "            host = self.server,\n",
    "            port = self.port,\n",
    "            user = self.user,\n",
    "            password = self.password,\n",
    "            database = self.database\n",
    "        )\n",
    "\n",
    "        #Version del texto\n",
    "        self.link = self.con.cursor()\n",
    "    def select(self, query):\n",
    "        self.link.execute(query)\n",
    "        return self.link.fetchall()\n",
    "    def management(self,query):\n",
    "        self.link.execute(query)\n",
    "        self.commit()\n",
    "        self.con.close()\n",
    "        return self.link.rowcount\n",
    "        \n",
    "    def commit(self):\n",
    "        self.con.commit()"
   ]
  },
  {
   "cell_type": "markdown",
   "metadata": {},
   "source": [
    "### Obtener todos los usuarios registrados\n",
    "Esta consulta va formar parte del login de la aplicacion para que se pueda autenticar el usuario a ingresar"
   ]
  },
  {
   "cell_type": "code",
   "execution_count": 23,
   "metadata": {
    "scrolled": true
   },
   "outputs": [
    {
     "ename": "AttributeError",
     "evalue": "'MySQLEngine' object has no attribute 'close'",
     "output_type": "error",
     "traceback": [
      "\u001b[0;31m---------------------------------------------------------------------------\u001b[0m",
      "\u001b[0;31mAttributeError\u001b[0m                            Traceback (most recent call last)",
      "\u001b[0;32m<ipython-input-23-fa46f8a95c55>\u001b[0m in \u001b[0;36m<module>\u001b[0;34m\u001b[0m\n\u001b[1;32m      1\u001b[0m \u001b[0mconfig\u001b[0m \u001b[0;34m=\u001b[0m \u001b[0mConnectionConfig\u001b[0m\u001b[0;34m(\u001b[0m\u001b[0;34m\"192.168.137.86\"\u001b[0m\u001b[0;34m,\u001b[0m\u001b[0;34m\"3306\"\u001b[0m\u001b[0;34m,\u001b[0m\u001b[0;34m\"admin\"\u001b[0m\u001b[0;34m,\u001b[0m\u001b[0;34m\"admin\"\u001b[0m\u001b[0;34m,\u001b[0m\u001b[0;34m\"Proyecto\"\u001b[0m\u001b[0;34m)\u001b[0m\u001b[0;34m\u001b[0m\u001b[0;34m\u001b[0m\u001b[0m\n\u001b[1;32m      2\u001b[0m \u001b[0mengie\u001b[0m \u001b[0;34m=\u001b[0m \u001b[0mMySQLEngine\u001b[0m\u001b[0;34m(\u001b[0m\u001b[0mconfig\u001b[0m\u001b[0;34m)\u001b[0m\u001b[0;34m\u001b[0m\u001b[0;34m\u001b[0m\u001b[0m\n\u001b[0;32m----> 3\u001b[0;31m \u001b[0mengie\u001b[0m\u001b[0;34m.\u001b[0m\u001b[0mclose\u001b[0m\u001b[0;34m(\u001b[0m\u001b[0;34m)\u001b[0m\u001b[0;34m\u001b[0m\u001b[0;34m\u001b[0m\u001b[0m\n\u001b[0m\u001b[1;32m      4\u001b[0m \u001b[0musers\u001b[0m \u001b[0;34m=\u001b[0m \u001b[0mengie\u001b[0m\u001b[0;34m.\u001b[0m\u001b[0mselect\u001b[0m\u001b[0;34m(\u001b[0m\u001b[0;34m\"SELECT * FROM User ORDER BY id ASC\"\u001b[0m\u001b[0;34m)\u001b[0m\u001b[0;34m\u001b[0m\u001b[0;34m\u001b[0m\u001b[0m\n\u001b[1;32m      5\u001b[0m \u001b[0mprint\u001b[0m\u001b[0;34m(\u001b[0m\u001b[0musers\u001b[0m\u001b[0;34m)\u001b[0m\u001b[0;34m\u001b[0m\u001b[0;34m\u001b[0m\u001b[0m\n",
      "\u001b[0;31mAttributeError\u001b[0m: 'MySQLEngine' object has no attribute 'close'"
     ]
    }
   ],
   "source": [
    "config = ConnectionConfig(\"192.168.137.86\",\"3306\",\"admin\",\"admin\",\"Proyecto\") \n",
    "engie = MySQLEngine(config)\n",
    "users = engie.select(\"SELECT * FROM User ORDER BY id ASC\")\n",
    "print(users)"
   ]
  },
  {
   "cell_type": "markdown",
   "metadata": {},
   "source": [
    "### Comprobar usuario\n",
    "compronar si el usuario ingresado por el computador esta en la base de datos y ademas si el password es correcto"
   ]
  },
  {
   "cell_type": "code",
   "execution_count": 6,
   "metadata": {},
   "outputs": [
    {
     "ename": "SyntaxError",
     "evalue": "'return' outside function (<ipython-input-6-52203fdb183b>, line 7)",
     "output_type": "error",
     "traceback": [
      "\u001b[0;36m  File \u001b[0;32m\"<ipython-input-6-52203fdb183b>\"\u001b[0;36m, line \u001b[0;32m7\u001b[0m\n\u001b[0;31m    return\u001b[0m\n\u001b[0m    ^\u001b[0m\n\u001b[0;31mSyntaxError\u001b[0m\u001b[0;31m:\u001b[0m 'return' outside function\n"
     ]
    }
   ],
   "source": [
    "TempUser = 'gabriel'\n",
    "TempPassw = 'ad465'\n",
    "for user in users:\n",
    "    if user[0] == TempUser:\n",
    "        if user[1] == TempPassw:\n",
    "            print('Bienvenid@',user[0])\n",
    "            return\n",
    "print('Usuario o contraseña incorrecta')"
   ]
  },
  {
   "cell_type": "markdown",
   "metadata": {},
   "source": [
    "## Clases de User\n",
    "### Agregar usuarios\n",
    "- Para agregar un usuario primero se comprueba si el nombre del usuario a ingresar ya esta en la base de datos retornando un true si el usuario existe, por lo que no se agrega el usuario\n",
    "- Si el usuario no existe se agrega a la base de datos retornando un true si el valor fue agregado con exito y false si hay un error al guardar\n",
    "\n",
    "### Eliminar Usuario\n",
    "- **Parametros de entrada:** @id esta variable hace referencia al id de la tabla User\n",
    "- **Retorno:** Al eliminar el usuario returna True si el valor fue eliminado y False si hay un error al eliminar \n",
    "\n",
    "### Modificar Usuario \n",
    "- **Parametros de entrada:** \n",
    "- **Retorno:**"
   ]
  },
  {
   "cell_type": "code",
   "execution_count": 7,
   "metadata": {},
   "outputs": [
    {
     "name": "stdout",
     "output_type": "stream",
     "text": [
      "ERROR al actualizar\n"
     ]
    }
   ],
   "source": [
    "class User():\n",
    "    def __init__(self):\n",
    "        self.users = []\n",
    "        self.search()\n",
    "    def search(self):\n",
    "        self.users = engie.select(\"SELECT * FROM User ORDER BY id ASC\")\n",
    "    \n",
    "    # Buscar usuario\n",
    "    def searchUser(self, Username, Password):\n",
    "        # Comprobar si el usuario \n",
    "        for user in self.users:\n",
    "            print(user)\n",
    "            if user[1] == Username:\n",
    "                if user[2] == Password:\n",
    "                    print('Bienvenid@', user[1])\n",
    "                    return True\n",
    "        print('Usuario o password incorrecto')\n",
    "        return(False)\n",
    "    \n",
    "    # Agregar usuario\n",
    "    def addUser(self, userName, password, typex, penColor, fillColor):\n",
    "        #Comprobar si el usuario exite en la base de datos del usuario\n",
    "        temp = self.searchUser(userName, password)\n",
    "        if temp:\n",
    "            print('El nombre del usuario ya existe')\n",
    "            return True\n",
    "        else:\n",
    "            query = engie.management(\"\"\"\n",
    "            INSERT INTO User\n",
    "            (var_userName, var_password, boo_type ) \n",
    "            VALUES\n",
    "            ('%s','%s','%s')\n",
    "            \"\"\" % (userName,password,typex))\n",
    "            if query == 1:\n",
    "                print('Usuario ingresado con exito')\n",
    "                return True\n",
    "\n",
    "            else:\n",
    "                print('ERROR al guardar')\n",
    "                return False\n",
    "                \n",
    "    #Eliminar usuario\n",
    "    def dropUser(self, id):\n",
    "        query = engie.management(\"\"\"\n",
    "            DELETE FROM User WHERE id = %s\n",
    "            \"\"\" % id)\n",
    "        \n",
    "        if query == 1:\n",
    "            print('Usuario eliminado con exito')\n",
    "            return True\n",
    "\n",
    "        else:\n",
    "            print('ERROR al eliminar')\n",
    "            return False\n",
    "            \n",
    "    #Modificar usuarios\n",
    "    def updateUser(self,data,id):\n",
    "        query = engie.management(\"\"\"\n",
    "            UPDATE User SET \n",
    "            var_userName = '%s',\n",
    "            var_password = '%s',\n",
    "            boo_type = %i\n",
    "            WHERE id = %i\n",
    "            \"\"\" % (data[0], data[1], data[2], id))\n",
    "        \n",
    "        if query == 1:\n",
    "            print('Usuario actualizado con exito')\n",
    "            return True\n",
    "\n",
    "        else:\n",
    "            print('ERROR al actualizar')\n",
    "            return False\n",
    "        \n",
    "user = User()\n",
    "data = ('userName', 'password', 1, 'penColor', 'fillColor')\n",
    "newuser = user.updateUser(data, 11)\n"
   ]
  },
  {
   "cell_type": "markdown",
   "metadata": {},
   "source": [
    "## Clase Dibujo\n",
    "### Agregar dibujos \n",
    "\n",
    "### Eliminar dibujos \n",
    "\n",
    "### Modificar dibujos"
   ]
  },
  {
   "cell_type": "code",
   "execution_count": 25,
   "metadata": {},
   "outputs": [
    {
     "name": "stdout",
     "output_type": "stream",
     "text": [
      "ERROR al actualizar\n",
      "[(4, 'Flores', b'{\"Campo\": 16}')]\n"
     ]
    }
   ],
   "source": [
    "class paint():\n",
    "    def __init__(self, idUser):\n",
    "        self.idUser = idUser\n",
    "        self.paints = [] #Digujos del usuario\n",
    "        self.search()\n",
    "        \n",
    "    def search(self): #Solicitar los dibujos que pertencen al usuario\n",
    "        self.paints = engie.select(\"\"\"SELECT \n",
    "                                   id,var_name, jso_data \n",
    "                                   FROM Paint \n",
    "                                   WHERE id_user = %s\"\"\" % self.idUser)\n",
    "        \n",
    "    def addPaint(self,namePaint,data, idUser):\n",
    "        #Comprobar si el nombre exite en la base de datos del paints\n",
    "        for paint in self.paints:\n",
    "            if namePaint == paint[0]:\n",
    "                print('Ya existe un nombre')\n",
    "                return False \n",
    "    \n",
    "        query = engie.management(\"\"\"\n",
    "        INSERT INTO Paint\n",
    "        (var_name, jso_dta, id_user) \n",
    "        VALUES\n",
    "        ('%s','%s',%s)\n",
    "        \"\"\" % (namePaint,data,idUser))\n",
    "        if query == 1:\n",
    "            print('Dibujo ingresado con exito')\n",
    "            return True\n",
    "\n",
    "        else:\n",
    "            print('ERROR al guardar')\n",
    "            return False\n",
    "        \n",
    "    def showPaints(self):\n",
    "        return self.paints\n",
    "    \n",
    "    def dropePaint(self, id):\n",
    "        query = engie.management(\"\"\"\n",
    "                DELETE \n",
    "                FROM Paint \n",
    "                WHERE id = %s\n",
    "            \"\"\" % id)\n",
    "        \n",
    "        if query == 1:\n",
    "            print('Dibujo eliminado con exito')\n",
    "            return True\n",
    "\n",
    "        else:\n",
    "            print('ERROR al eliminar')\n",
    "            return False\n",
    "        \n",
    "    def updatePaint(self,data,id):\n",
    "        query = engie.management(\"\"\"\n",
    "            UPDATE Paint SET \n",
    "            var_name = '%s',\n",
    "            jso_data = '%s'\n",
    "            WHERE id = %i\n",
    "            \"\"\" % (data[0], data[1], id))\n",
    "        \n",
    "        if query == 1:\n",
    "            print('Dibujo actualizado con exito')\n",
    "            return True\n",
    "\n",
    "        else:\n",
    "            print('ERROR al actualizar')\n",
    "            return False\n",
    "data = ('Flores', '{\"Campo\": 16}' )  \n",
    "paint = paint(4)\n",
    "paint.updatePaint(data,4)\n",
    "print(paint.showPaints())"
   ]
  },
  {
   "cell_type": "markdown",
   "metadata": {},
   "source": [
    "## Clase bitacora\n",
    "### Buscar bitacora\n",
    "### Agregar bitacora "
   ]
  },
  {
   "cell_type": "code",
   "execution_count": null,
   "metadata": {},
   "outputs": [],
   "source": []
  }
 ],
 "metadata": {
  "kernelspec": {
   "display_name": "Python 3",
   "language": "python",
   "name": "python3"
  },
  "language_info": {
   "codemirror_mode": {
    "name": "ipython",
    "version": 3
   },
   "file_extension": ".py",
   "mimetype": "text/x-python",
   "name": "python",
   "nbconvert_exporter": "python",
   "pygments_lexer": "ipython3",
   "version": "3.8.5"
  }
 },
 "nbformat": 4,
 "nbformat_minor": 4
}
