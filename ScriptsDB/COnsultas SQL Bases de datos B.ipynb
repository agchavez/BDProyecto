{
 "cells": [
  {
   "cell_type": "code",
   "execution_count": 35,
   "metadata": {
    "tags": []
   },
   "outputs": [],
   "source": [
    "import mysql.connector\n",
    "import json\n",
    "import gzip\n",
    "#-*-coding:utf8-*-\n",
    "#print('Importado')"
   ]
  },
  {
   "cell_type": "code",
   "execution_count": 36,
   "metadata": {},
   "outputs": [],
   "source": [
    "class ConnectionConfig:\n",
    "    \n",
    "    def __init__(self, server, port,user, password, database):\n",
    "        self.server = server\n",
    "        self.port = port\n",
    "        self.user = user\n",
    "        self.password = password\n",
    "        self.database = database"
   ]
  },
  {
   "cell_type": "code",
   "execution_count": 37,
   "metadata": {},
   "outputs": [],
   "source": [
    "class MySQLEngine:\n",
    "    def __init__(self,config):\n",
    "        self.server = config.server\n",
    "        self.port = config.port\n",
    "        self.user = config.user\n",
    "        self.password = config.password\n",
    "        self.database = config.database\n",
    "        \n",
    "\n",
    "        self.start()\n",
    "    def start(self):\n",
    "        self.con = mysql.connector.connect(\n",
    "            host = self.server,\n",
    "            port = self.port,\n",
    "            user = self.user,\n",
    "            password = self.password,\n",
    "            database = self.database\n",
    "        )\n",
    "\n",
    "        #Version del texto\n",
    "        self.link = self.con.cursor()\n",
    "    def select(self, query):\n",
    "        self.link.execute(query)\n",
    "        return self.link.fetchall()\n",
    "    def management(self,sp, arg):\n",
    "        temp = self.link.callproc(sp, arg)\n",
    "        self.commit()\n",
    "        return temp\n",
    "        \n",
    "    def commit(self):\n",
    "        self.con.commit()"
   ]
  },
  {
   "cell_type": "code",
   "execution_count": 38,
   "metadata": {},
   "outputs": [
    {
     "name": "stdout",
     "output_type": "stream",
     "text": [
      "[]\n"
     ]
    }
   ],
   "source": [
    "config = ConnectionConfig(\"localhost\",\"3306\",\"admin\",\"admin\",\"Respaldo\") \n",
    "engie = MySQLEngine(config)\n",
    "paint = engie.select(\"\"\"SELECT \n",
    "                            var_name,\n",
    "                           jso_data \n",
    "                        FROM\n",
    "                            Paint\n",
    "                        WHERE \n",
    "                            id_user = 1 AND CAST(AES_DECRYPT(var_name ,'admin')AS CHAR) = 'DIBUJOx'\n",
    "                        ;\"\"\")\n",
    "print(paint)"
   ]
  },
  {
   "cell_type": "code",
   "execution_count": 39,
   "metadata": {},
   "outputs": [
    {
     "data": {
      "text/plain": [
       "'for tupla in paint:\\n    print(tupla)'"
      ]
     },
     "execution_count": 39,
     "metadata": {},
     "output_type": "execute_result"
    }
   ],
   "source": [
    "\"\"\"for tupla in paint:\n",
    "    print(tupla)\"\"\""
   ]
  },
  {
   "cell_type": "markdown",
   "metadata": {},
   "source": [
    "## Clase User\n",
    "### Agregar usuario\n",
    "Para agregar un nuevo usuario a la base de datos B se llamara al sp_addUser que ya se encuentra incorporado en la base de datos "
   ]
  },
  {
   "cell_type": "code",
   "execution_count": 40,
   "metadata": {},
   "outputs": [],
   "source": [
    "class User():\n",
    "    def __init__(self):\n",
    "        pass\n",
    "    # Agregar usuario\n",
    "    def addUser(self, userName, password, typex, penColor, fillColor):\n",
    "        query = engie.management('sp_addUser',(userName,password,typex, penColor, fillColor,'admin', None))\n",
    "    \n",
    "              "
   ]
  },
  {
   "cell_type": "code",
   "execution_count": 41,
   "metadata": {},
   "outputs": [],
   "source": [
    "User().addUser('Rosa','122345',1, '#12356','#123123')"
   ]
  },
  {
   "cell_type": "markdown",
   "metadata": {},
   "source": [
    "## Clase Paint\n",
    "### Agregar un dibujo\n"
   ]
  },
  {
   "cell_type": "code",
   "execution_count": 42,
   "metadata": {},
   "outputs": [],
   "source": [
    "class paint():\n",
    "    def __init__(self, idUser):\n",
    "        self.idUser = idUser\n",
    "        self.paints = [] #Digujos del usuario\n",
    "        \n",
    "    def search(self,namePaint): #Solicitar los dibujos que pertencen al usuario\n",
    "        self.paints = engie.select(\"\"\"SELECT \n",
    "                                        CAST(AES_DECRYPT(var_name,'admin')AS CHAR) ,\n",
    "                                        CAST(AES_DECRYPT(jso_data,'admin')AS CHAR) \n",
    "                                    FROM\n",
    "                                        Paint\n",
    "                                    WHERE \n",
    "                                        id_user = %s AND CAST(AES_DECRYPT(var_name ,'admin')AS CHAR) = '%s'\n",
    "                                    ;\"\"\" % (self.idUser,namePaint))\n",
    "        return self.paints\n",
    "                                   \n",
    "    def addPaint(self, namePaint, data, idUser, adminPass= 'admin'):\n",
    "        \n",
    "        compress_data = self.compress_data(data)\n",
    "        temp = compress_data.hex()\n",
    "        query = engie.management('sp_addPaint',(namePaint,temp,idUser,'admin', None))\n",
    "\n",
    "        if query[4] > 0:\n",
    "            print('Dibujo ingresado con exito')\n",
    "            return True\n",
    "        else:\n",
    "            print('ERROR al guardar')\n",
    "            return False\n",
    "        \n",
    "    def compress_data(self, data):\n",
    "        json_data = json.dumps(data,indent=1)\n",
    "        enconde = json_data.encode('utf-8')\n",
    "        compressd = gzip.compress(enconde)\n",
    "        return compressd\n",
    "    \n",
    "    def decompress_data(self, data):\n",
    "        return gzip.decompress(data)\n",
    "    \n",
    "    def showPaints(self):\n",
    "        print(self.paints)\n",
    "        return self.paints\n",
    "    \n",
    "\n"
   ]
  },
  {
   "cell_type": "code",
   "execution_count": 43,
   "metadata": {},
   "outputs": [
    {
     "name": "stdout",
     "output_type": "stream",
     "text": [
      "Dibujo ingresado con exito\n"
     ]
    },
    {
     "data": {
      "text/plain": [
       "True"
      ]
     },
     "execution_count": 43,
     "metadata": {},
     "output_type": "execute_result"
    }
   ],
   "source": [
    "pait = paint(1)\n",
    "pait.addPaint('Pruebas123',{\"VALOR\":\"JACOME\",\"VALOR2\":\"rosalia\", \"VALOR3\":\"ABNERSON\"},1,'admin')"
   ]
  },
  {
   "cell_type": "code",
   "execution_count": 20,
   "metadata": {},
   "outputs": [
    {
     "name": "stdout",
     "output_type": "stream",
     "text": [
      "{\n",
      " \"VALOR\": \"JACOME\",\n",
      " \"VALOR2\": \"rosalia\",\n",
      " \"VALOR3\": \"ABNERSON\"\n",
      "}\n"
     ]
    }
   ],
   "source": [
    "result = pait.search('Pruebas123')\n",
    "temp = pait.decompress_data(bytes.fromhex(result[0][1]))\n",
    "print(temp.decode())"
   ]
  },
  {
   "cell_type": "code",
   "execution_count": null,
   "metadata": {},
   "outputs": [],
   "source": []
  },
  {
   "cell_type": "code",
   "execution_count": null,
   "metadata": {},
   "outputs": [],
   "source": []
  },
  {
   "cell_type": "code",
   "execution_count": null,
   "metadata": {},
   "outputs": [],
   "source": []
  },
  {
   "cell_type": "code",
   "execution_count": null,
   "metadata": {},
   "outputs": [],
   "source": []
  },
  {
   "cell_type": "code",
   "execution_count": null,
   "metadata": {},
   "outputs": [],
   "source": []
  },
  {
   "cell_type": "code",
   "execution_count": null,
   "metadata": {},
   "outputs": [],
   "source": []
  },
  {
   "cell_type": "code",
   "execution_count": null,
   "metadata": {},
   "outputs": [],
   "source": []
  },
  {
   "cell_type": "code",
   "execution_count": null,
   "metadata": {},
   "outputs": [],
   "source": []
  },
  {
   "cell_type": "code",
   "execution_count": null,
   "metadata": {},
   "outputs": [],
   "source": []
  },
  {
   "cell_type": "code",
   "execution_count": null,
   "metadata": {},
   "outputs": [],
   "source": []
  },
  {
   "cell_type": "code",
   "execution_count": null,
   "metadata": {},
   "outputs": [],
   "source": []
  },
  {
   "cell_type": "code",
   "execution_count": null,
   "metadata": {},
   "outputs": [],
   "source": []
  },
  {
   "cell_type": "code",
   "execution_count": 17,
   "metadata": {},
   "outputs": [
    {
     "name": "stdout",
     "output_type": "stream",
     "text": [
      "b'{\"VALOR\":\"JACOME\",\"VALOR2\":\"rosalia\", \"VALOR3\":\"ABNERSON\"}'\n"
     ]
    },
    {
     "ename": "NameError",
     "evalue": "name 'B' is not defined",
     "output_type": "error",
     "traceback": [
      "\u001b[0;31m---------------------------------------------------------------------------\u001b[0m",
      "\u001b[0;31mNameError\u001b[0m                                 Traceback (most recent call last)",
      "\u001b[0;32m<ipython-input-17-1a6b29a461ed>\u001b[0m in \u001b[0;36m<module>\u001b[0;34m\u001b[0m\n\u001b[1;32m      2\u001b[0m \u001b[0mb\u001b[0m \u001b[0;34m=\u001b[0m \u001b[0mstr\u001b[0m\u001b[0;34m(\u001b[0m\u001b[0ma\u001b[0m\u001b[0;34m)\u001b[0m\u001b[0;34m\u001b[0m\u001b[0;34m\u001b[0m\u001b[0m\n\u001b[1;32m      3\u001b[0m \u001b[0mprint\u001b[0m\u001b[0;34m(\u001b[0m\u001b[0;34m'{\"VALOR\":\"JACOME\",\"VALOR2\":\"rosalia\", \"VALOR3\":\"ABNERSON\"}'\u001b[0m\u001b[0;34m.\u001b[0m\u001b[0mencode\u001b[0m\u001b[0;34m(\u001b[0m\u001b[0;34m)\u001b[0m\u001b[0;34m)\u001b[0m\u001b[0;34m\u001b[0m\u001b[0;34m\u001b[0m\u001b[0m\n\u001b[0;32m----> 4\u001b[0;31m \u001b[0mgzip\u001b[0m\u001b[0;34m.\u001b[0m\u001b[0mdecompress\u001b[0m\u001b[0;34m(\u001b[0m\u001b[0mB\u001b[0m\u001b[0;34m.\u001b[0m\u001b[0mreplace\u001b[0m\u001b[0;34m(\u001b[0m\u001b[0;34m\"sss\"\u001b[0m\u001b[0;34m,\u001b[0m \u001b[0;34m\"\"\u001b[0m\u001b[0;34m)\u001b[0m\u001b[0;34m)\u001b[0m\u001b[0;34m\u001b[0m\u001b[0;34m\u001b[0m\u001b[0m\n\u001b[0m",
      "\u001b[0;31mNameError\u001b[0m: name 'B' is not defined"
     ]
    }
   ],
   "source": [
    "a = gzip.compress('{\"VALOR\":\"JACOME\",\"VALOR2\":\"rosalia\", \"VALOR3\":\"ABNERSON\"}'.encode())\n",
    "b = str(a)\n",
    "print('{\"VALOR\":\"JACOME\",\"VALOR2\":\"rosalia\", \"VALOR3\":\"ABNERSON\"}'.encode())\n",
    "gzip.decompress(B.replace(\"sss\", \"\"))"
   ]
  }
 ],
 "metadata": {
  "kernelspec": {
   "display_name": "Python 3",
   "language": "python",
   "name": "python3"
  },
  "language_info": {
   "codemirror_mode": {
    "name": "ipython",
    "version": 3
   },
   "file_extension": ".py",
   "mimetype": "text/x-python",
   "name": "python",
   "nbconvert_exporter": "python",
   "pygments_lexer": "ipython3",
   "version": "3.8.5"
  }
 },
 "nbformat": 4,
 "nbformat_minor": 4
}
